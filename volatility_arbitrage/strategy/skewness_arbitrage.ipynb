{
 "cells": [
  {
   "cell_type": "code",
   "execution_count": null,
   "metadata": {},
   "outputs": [
    {
     "ename": "",
     "evalue": "",
     "output_type": "error",
     "traceback": [
      "\u001b[1;31mFailed to start the Kernel. \n",
      "\u001b[1;31mFailed to start the Kernel '.venv (Python 3.10.1)'. \n",
      "\u001b[1;31mView Jupyter <a href='command:jupyter.viewOutput'>log</a> for further details. listen EFAULT: bad address in system call argument 127.0.0.1:9004"
     ]
    }
   ],
   "source": [
    "import sys\n",
    "\n",
    "sys.path.append(\"C:/Users/junsu/volatility_arbitrage\")"
   ]
  },
  {
   "cell_type": "code",
   "execution_count": null,
   "metadata": {},
   "outputs": [],
   "source": [
    "import matplotlib.pyplot as plt\n",
    "import numpy as np\n",
    "import numpy.typing as npt\n",
    "\n",
    "from volatility_arbitrage.pricing_model.heston_model import generate_inefficient_market\n",
    "from volatility_arbitrage.pricing_model.interface import HestonParams, MarketModel\n",
    "from volatility_arbitrage.pricing_model.weighted_variance_swap import (\n",
    "    StrategyPnlCalculator,\n",
    "    SkewSwap,\n",
    ")\n",
    "from volatility_arbitrage.strategy.evaluation import (\n",
    "    plot_pnl_distribution,\n",
    "    plot_pnl_of_path,\n",
    "    plot_vega_hedge_performance_of_path,\n",
    ")"
   ]
  },
  {
   "cell_type": "code",
   "execution_count": null,
   "metadata": {},
   "outputs": [],
   "source": [
    "BDAYS = 252\n",
    "\n",
    "length = BDAYS\n",
    "time_delta = 1 / length\n",
    "implied_vol = 0.2\n",
    "realized_vol = 0.16\n",
    "num_path = 10_000\n",
    "rho_tilde = -0.8\n",
    "rho = -0.6\n",
    "\n",
    "imp_model = HestonParams(kappa=5, mean_of_var=implied_vol**2, vol_of_var=0.5, rho=rho_tilde)\n",
    "real_model = HestonParams(kappa=5, mean_of_var=realized_vol**2, vol_of_var=0.5, rho=-0.4)\n",
    "market_model = MarketModel(\n",
    "    imp_model=imp_model, real_model=real_model, rho_real_var_imp_var=0.7, rho_spot_imp_var=rho\n",
    ")\n",
    "\n",
    "np.random.seed(0)\n",
    "lr, real_var, imp_var = generate_inefficient_market(\n",
    "    real_var_0=realized_vol**2,\n",
    "    imp_var_0=implied_vol**2,\n",
    "    market_model=market_model,\n",
    "    num_path=num_path,\n",
    "    length=length,\n",
    "    time_delta=time_delta,\n",
    ")\n",
    "\n",
    "f = 100 * np.exp(np.cumsum(lr, axis=0))"
   ]
  },
  {
   "cell_type": "code",
   "execution_count": null,
   "metadata": {},
   "outputs": [],
   "source": [
    "fig, ax = plt.subplots()\n",
    "ax.plot(rho_tilde * real_var[:, 0], label=r\"$\\rho \\sigma_t$\")\n",
    "ax.plot(rho * imp_var[:, 0], label=r\"$\\tilde{\\rho} \\tilde{\\sigma}_t$\")\n",
    "ax.legend()\n",
    "fig.tight_layout()\n",
    "plt.show()"
   ]
  },
  {
   "attachments": {},
   "cell_type": "markdown",
   "metadata": {},
   "source": [
    "# Trading Forward Skew Swap Rolling Everyday"
   ]
  },
  {
   "cell_type": "code",
   "execution_count": null,
   "metadata": {},
   "outputs": [],
   "source": [
    "target_dte = np.arange(1, BDAYS + 1, 1)\n",
    "\n",
    "skew_swap = SkewSwap(market_model=market_model)\n",
    "skew_swap_pnl_per_dte: dict[int, StrategyPnlCalculator] = {}\n",
    "\n",
    "for dte in target_dte:\n",
    "    tau_0 = np.full_like(imp_var[1:], dte / BDAYS)\n",
    "    tau_1 = np.full_like(imp_var[1:], dte / BDAYS - time_delta)\n",
    "\n",
    "    pnl_calculator = skew_swap.get_pnl_calculator(\n",
    "        f_0=f[:-1],\n",
    "        f_t=f[1:],\n",
    "        real_var_0=real_var[:-1],\n",
    "        imp_var_0=imp_var[:-1],\n",
    "        tau_0=tau_0,\n",
    "        imp_var_t=imp_var[1:],\n",
    "        tau_t=tau_1,\n",
    "    )\n",
    "    skew_swap_pnl_per_dte[dte] = pnl_calculator"
   ]
  },
  {
   "attachments": {},
   "cell_type": "markdown",
   "metadata": {},
   "source": [
    "### Continuous Long 1 Month / 1 Day Forward Skewness Swap Strategy (Long Upside & Short Downside)"
   ]
  },
  {
   "cell_type": "code",
   "execution_count": null,
   "metadata": {},
   "outputs": [],
   "source": [
    "cont_long_strategy = np.ones_like(real_var[:-1]) * 10000\n",
    "cont_long_pnl = skew_swap_pnl_per_dte[21].get_strategy_pnl(\n",
    "    cont_long_strategy\n",
    ") - skew_swap_pnl_per_dte[1].get_strategy_pnl(cont_long_strategy)"
   ]
  },
  {
   "cell_type": "code",
   "execution_count": null,
   "metadata": {},
   "outputs": [],
   "source": [
    "plot_pnl_of_path(cont_long_pnl, 0)"
   ]
  },
  {
   "cell_type": "code",
   "execution_count": null,
   "metadata": {},
   "outputs": [],
   "source": [
    "plot_vega_hedge_performance_of_path(cont_long_pnl, 0)"
   ]
  },
  {
   "cell_type": "code",
   "execution_count": null,
   "metadata": {},
   "outputs": [],
   "source": [
    "plot_pnl_distribution(cont_long_pnl)"
   ]
  },
  {
   "attachments": {},
   "cell_type": "markdown",
   "metadata": {},
   "source": [
    "### Skewness Arbitrage Strategy"
   ]
  },
  {
   "cell_type": "code",
   "execution_count": null,
   "metadata": {},
   "outputs": [],
   "source": [
    "skew_arb_strategy: npt.NDArray[np.float64] = 10000 * (\n",
    "    (rho * real_var[:-1] > rho_tilde * imp_var[:-1]).astype(dtype=int) * 2 - 1\n",
    ")\n",
    "skew_arb_pnl = skew_swap_pnl_per_dte[21].get_strategy_pnl(\n",
    "    skew_arb_strategy\n",
    ") - skew_swap_pnl_per_dte[1].get_strategy_pnl(skew_arb_strategy)"
   ]
  },
  {
   "cell_type": "code",
   "execution_count": null,
   "metadata": {},
   "outputs": [],
   "source": [
    "plot_pnl_of_path(skew_arb_pnl, 0)"
   ]
  },
  {
   "cell_type": "code",
   "execution_count": null,
   "metadata": {},
   "outputs": [],
   "source": [
    "plot_pnl_distribution(skew_arb_pnl)"
   ]
  },
  {
   "attachments": {},
   "cell_type": "markdown",
   "metadata": {},
   "source": [
    "## Ex Post Sharpe Ratio per DTE"
   ]
  },
  {
   "cell_type": "code",
   "execution_count": null,
   "metadata": {},
   "outputs": [],
   "source": [
    "ann_sharpe_per_dte: dict[int, npt.NDArray[np.float64]] = {}\n",
    "\n",
    "for dte, pnl_calculator in skew_swap_pnl_per_dte.items():\n",
    "    skew_arb_pnl = pnl_calculator.get_strategy_pnl(skew_arb_strategy)\n",
    "    ann_sharpe_per_dte[dte] = skew_arb_pnl.total_pnl.mean(axis=0) / (\n",
    "        skew_arb_pnl.total_pnl.std(axis=0) * np.sqrt(time_delta)\n",
    "    )"
   ]
  },
  {
   "cell_type": "code",
   "execution_count": null,
   "metadata": {},
   "outputs": [],
   "source": [
    "means = [np.mean(ann_sharpe) for ann_sharpe in ann_sharpe_per_dte.values()]\n",
    "stds = [np.std(ann_sharpe) for ann_sharpe in ann_sharpe_per_dte.values()]\n",
    "\n",
    "fig, ax = plt.subplots(1, 2, figsize=(10, 4))\n",
    "ax[0].plot(target_dte[1:], means, label=\"Mean Sharpe Ratio\")\n",
    "ax[0].fill_between(\n",
    "    target_dte[1:],\n",
    "    np.array(means) - 2 * np.array(stds),\n",
    "    np.array(means) + 2 * np.array(stds),\n",
    "    alpha=0.2,\n",
    "    label=\"Mean ± 2 STD\",\n",
    ")\n",
    "ax[0].set_xlabel(\"Days to Expiry\")\n",
    "ax[0].set_ylabel(\"Sharpe Ratio\")\n",
    "ax[0].legend()\n",
    "\n",
    "for dte in [BDAYS, 21 * 6, 21, 2]:\n",
    "    ax[1].hist(\n",
    "        ann_sharpe_per_dte[dte],\n",
    "        density=True,\n",
    "        bins=int(np.sqrt(len(ann_sharpe_per_dte[dte]))),\n",
    "        label=f\"{dte} DTE\",\n",
    "        alpha=0.5,\n",
    "    )\n",
    "ax[1].set_xlabel(\"Sharpe Ratio\")\n",
    "ax[1].legend()\n",
    "\n",
    "fig.tight_layout()\n",
    "plt.show()"
   ]
  }
 ],
 "metadata": {
  "kernelspec": {
   "display_name": ".venv",
   "language": "python",
   "name": "python3"
  },
  "language_info": {
   "codemirror_mode": {
    "name": "ipython",
    "version": 3
   },
   "file_extension": ".py",
   "mimetype": "text/x-python",
   "name": "python",
   "nbconvert_exporter": "python",
   "pygments_lexer": "ipython3",
   "version": "3.10.1 (tags/v3.10.1:2cd268a, Dec  6 2021, 19:10:37) [MSC v.1929 64 bit (AMD64)]"
  },
  "orig_nbformat": 4,
  "vscode": {
   "interpreter": {
    "hash": "2ca1cc6ebeb84114f24f2c853380dd500fe8ab949c1b4ea52a3194da4e5887fa"
   }
  }
 },
 "nbformat": 4,
 "nbformat_minor": 2
}
