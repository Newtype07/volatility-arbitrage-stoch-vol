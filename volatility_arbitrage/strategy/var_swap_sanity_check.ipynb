{
 "cells": [
  {
   "cell_type": "code",
   "execution_count": null,
   "metadata": {},
   "outputs": [
    {
     "ename": "",
     "evalue": "",
     "output_type": "error",
     "traceback": [
      "\u001b[1;31mFailed to start the Kernel. \n",
      "\u001b[1;31mFailed to start the Kernel '.venv (Python 3.10.1)'. \n",
      "\u001b[1;31mView Jupyter <a href='command:jupyter.viewOutput'>log</a> for further details. listen EFAULT: bad address in system call argument 0.0.0.0:9001"
     ]
    }
   ],
   "source": [
    "import sys\n",
    "\n",
    "sys.path.append(\"C:/Users/junsu/volatility_arbitrage\")"
   ]
  },
  {
   "cell_type": "code",
   "execution_count": null,
   "metadata": {},
   "outputs": [
    {
     "ename": "",
     "evalue": "",
     "output_type": "error",
     "traceback": [
      "\u001b[1;31mFailed to start the Kernel. \n",
      "\u001b[1;31mFailed to start the Kernel '.venv (Python 3.10.1)'. \n",
      "\u001b[1;31mView Jupyter <a href='command:jupyter.viewOutput'>log</a> for further details. listen EFAULT: bad address in system call argument 0.0.0.0:9001"
     ]
    }
   ],
   "source": [
    "import matplotlib.pyplot as plt\n",
    "import numpy as np\n",
    "import numpy.typing as npt\n",
    "\n",
    "from volatility_arbitrage.pricing_model.heston_model import generate_heston_processes\n",
    "from volatility_arbitrage.pricing_model.interface import HestonParams, MarketModel\n",
    "from volatility_arbitrage.pricing_model.weighted_variance_swap import (\n",
    "    StrategyPnlCalculator,\n",
    "    VarianceSwap,\n",
    ")\n",
    "from volatility_arbitrage.strategy.evaluation import (\n",
    "    plot_pnl_distribution,\n",
    "    plot_pnl_of_path,\n",
    "    plot_vega_hedge_performance_of_path,\n",
    ")"
   ]
  },
  {
   "attachments": {},
   "cell_type": "markdown",
   "metadata": {},
   "source": [
    "# Model Setup"
   ]
  },
  {
   "cell_type": "code",
   "execution_count": null,
   "metadata": {},
   "outputs": [
    {
     "ename": "",
     "evalue": "",
     "output_type": "error",
     "traceback": [
      "\u001b[1;31mFailed to start the Kernel. \n",
      "\u001b[1;31mFailed to start the Kernel '.venv (Python 3.10.1)'. \n",
      "\u001b[1;31mView Jupyter <a href='command:jupyter.viewOutput'>log</a> for further details. listen EFAULT: bad address in system call argument 0.0.0.0:9001"
     ]
    }
   ],
   "source": [
    "BDAYS = 252\n",
    "\n",
    "length = BDAYS\n",
    "time_delta = 1 / length\n",
    "realized_vol = 0.16\n",
    "num_path = 10_000\n",
    "\n",
    "heston_model = HestonParams(kappa=5, mean_of_var=realized_vol**2, vol_of_var=0.5, rho=-0.4)\n",
    "market_model = MarketModel(\n",
    "    imp_model=heston_model,\n",
    "    real_model=heston_model,\n",
    "    rho_spot_imp_var=-0.4,\n",
    "    rho_real_var_imp_var=1 - 1e-9,\n",
    ")\n",
    "\n",
    "np.random.seed(0)\n",
    "normal_var = np.random.normal(size=(2, length, num_path))\n",
    "lr, real_var = generate_heston_processes(\n",
    "    var_0=realized_vol**2,\n",
    "    model_params=heston_model,\n",
    "    normal_var_1=normal_var[0],\n",
    "    normal_var_2=normal_var[1],\n",
    "    num_path=num_path,\n",
    "    length=length,\n",
    "    time_delta=time_delta,\n",
    ")\n",
    "\n",
    "f = 100 * np.exp(np.cumsum(lr, axis=0))"
   ]
  },
  {
   "attachments": {},
   "cell_type": "markdown",
   "metadata": {},
   "source": [
    "# Trading Variance Swap Rolling Everyday"
   ]
  },
  {
   "cell_type": "code",
   "execution_count": null,
   "metadata": {},
   "outputs": [
    {
     "ename": "",
     "evalue": "",
     "output_type": "error",
     "traceback": [
      "\u001b[1;31mFailed to start the Kernel. \n",
      "\u001b[1;31mFailed to start the Kernel '.venv (Python 3.10.1)'. \n",
      "\u001b[1;31mView Jupyter <a href='command:jupyter.viewOutput'>log</a> for further details. listen EFAULT: bad address in system call argument 0.0.0.0:9001"
     ]
    }
   ],
   "source": [
    "target_dte = np.arange(1, BDAYS + 1, 1)\n",
    "\n",
    "variance_swap = VarianceSwap(market_model=market_model)\n",
    "var_swap_pnl_per_dte: dict[int, StrategyPnlCalculator] = {}\n",
    "\n",
    "for dte in target_dte:\n",
    "    tau_0 = np.full_like(real_var[1:], dte / BDAYS)\n",
    "    tau_1 = np.full_like(real_var[1:], dte / BDAYS - time_delta)\n",
    "\n",
    "    pnl_calculator = variance_swap.get_pnl_calculator(\n",
    "        f_0=f[:-1],\n",
    "        f_t=f[1:],\n",
    "        real_var_0=real_var[:-1],\n",
    "        imp_var_0=real_var[:-1],\n",
    "        tau_0=tau_0,\n",
    "        imp_var_t=real_var[1:],\n",
    "        tau_t=tau_1,\n",
    "    )\n",
    "    var_swap_pnl_per_dte[dte] = pnl_calculator"
   ]
  },
  {
   "attachments": {},
   "cell_type": "markdown",
   "metadata": {},
   "source": [
    "## Continuous Short 1 Month Variance Swap Strategy"
   ]
  },
  {
   "cell_type": "code",
   "execution_count": null,
   "metadata": {},
   "outputs": [
    {
     "ename": "",
     "evalue": "",
     "output_type": "error",
     "traceback": [
      "\u001b[1;31mFailed to start the Kernel. \n",
      "\u001b[1;31mFailed to start the Kernel '.venv (Python 3.10.1)'. \n",
      "\u001b[1;31mView Jupyter <a href='command:jupyter.viewOutput'>log</a> for further details. listen EFAULT: bad address in system call argument 0.0.0.0:9001"
     ]
    }
   ],
   "source": [
    "cont_short_strategy = -np.ones_like(real_var[:-1]) * 100\n",
    "cont_short_pnl = var_swap_pnl_per_dte[21].get_strategy_pnl(cont_short_strategy)"
   ]
  },
  {
   "cell_type": "code",
   "execution_count": null,
   "metadata": {},
   "outputs": [
    {
     "ename": "",
     "evalue": "",
     "output_type": "error",
     "traceback": [
      "\u001b[1;31mFailed to start the Kernel. \n",
      "\u001b[1;31mFailed to start the Kernel '.venv (Python 3.10.1)'. \n",
      "\u001b[1;31mView Jupyter <a href='command:jupyter.viewOutput'>log</a> for further details. listen EFAULT: bad address in system call argument 0.0.0.0:9001"
     ]
    }
   ],
   "source": [
    "plot_pnl_of_path(cont_short_pnl, 0)"
   ]
  },
  {
   "cell_type": "code",
   "execution_count": null,
   "metadata": {},
   "outputs": [
    {
     "ename": "",
     "evalue": "",
     "output_type": "error",
     "traceback": [
      "\u001b[1;31mFailed to start the Kernel. \n",
      "\u001b[1;31mFailed to start the Kernel '.venv (Python 3.10.1)'. \n",
      "\u001b[1;31mView Jupyter <a href='command:jupyter.viewOutput'>log</a> for further details. listen EFAULT: bad address in system call argument 0.0.0.0:9001"
     ]
    }
   ],
   "source": [
    "plot_vega_hedge_performance_of_path(cont_short_pnl, 0)"
   ]
  },
  {
   "cell_type": "code",
   "execution_count": null,
   "metadata": {},
   "outputs": [
    {
     "ename": "",
     "evalue": "",
     "output_type": "error",
     "traceback": [
      "\u001b[1;31mFailed to start the Kernel. \n",
      "\u001b[1;31mFailed to start the Kernel '.venv (Python 3.10.1)'. \n",
      "\u001b[1;31mView Jupyter <a href='command:jupyter.viewOutput'>log</a> for further details. listen EFAULT: bad address in system call argument 0.0.0.0:9001"
     ]
    }
   ],
   "source": [
    "plot_pnl_distribution(cont_short_pnl)"
   ]
  },
  {
   "attachments": {},
   "cell_type": "markdown",
   "metadata": {},
   "source": [
    "## Ex Post Sharpe Ratio per DTE"
   ]
  },
  {
   "cell_type": "code",
   "execution_count": null,
   "metadata": {},
   "outputs": [
    {
     "ename": "",
     "evalue": "",
     "output_type": "error",
     "traceback": [
      "\u001b[1;31mFailed to start the Kernel. \n",
      "\u001b[1;31mFailed to start the Kernel '.venv (Python 3.10.1)'. \n",
      "\u001b[1;31mView Jupyter <a href='command:jupyter.viewOutput'>log</a> for further details. listen EFAULT: bad address in system call argument 0.0.0.0:9001"
     ]
    }
   ],
   "source": [
    "ann_sharpe_per_dte: dict[int, npt.NDArray[np.float64]] = {}\n",
    "\n",
    "for dte, pnl_calculator in var_swap_pnl_per_dte.items():\n",
    "    cont_short_pnl = pnl_calculator.get_strategy_pnl(cont_short_strategy)\n",
    "    ann_sharpe_per_dte[dte] = cont_short_pnl.total_pnl.mean(axis=0) / (\n",
    "        cont_short_pnl.total_pnl.std(axis=0) * np.sqrt(time_delta)\n",
    "    )"
   ]
  },
  {
   "cell_type": "code",
   "execution_count": null,
   "metadata": {},
   "outputs": [
    {
     "ename": "",
     "evalue": "",
     "output_type": "error",
     "traceback": [
      "\u001b[1;31mFailed to start the Kernel. \n",
      "\u001b[1;31mFailed to start the Kernel '.venv (Python 3.10.1)'. \n",
      "\u001b[1;31mView Jupyter <a href='command:jupyter.viewOutput'>log</a> for further details. listen EFAULT: bad address in system call argument 0.0.0.0:9001"
     ]
    }
   ],
   "source": [
    "means = [np.mean(ann_sharpe) for ann_sharpe in ann_sharpe_per_dte.values()]\n",
    "stds = [np.std(ann_sharpe) for ann_sharpe in ann_sharpe_per_dte.values()]\n",
    "\n",
    "fig, ax = plt.subplots(1, 2, figsize=(10, 4))\n",
    "ax[0].plot(target_dte, means, label=\"Mean Sharpe Ratio\")\n",
    "ax[0].fill_between(\n",
    "    target_dte,\n",
    "    np.array(means) - 2 * np.array(stds),\n",
    "    np.array(means) + 2 * np.array(stds),\n",
    "    alpha=0.2,\n",
    "    label=\"Mean ± 2 STD\",\n",
    ")\n",
    "ax[0].set_xlabel(\"Days to Expiry\")\n",
    "ax[0].set_ylabel(\"Sharpe Ratio\")\n",
    "ax[0].legend()\n",
    "\n",
    "for dte in [BDAYS, 21 * 6, 21, 1]:\n",
    "    ax[1].hist(\n",
    "        ann_sharpe_per_dte[dte],\n",
    "        density=True,\n",
    "        bins=int(np.sqrt(len(ann_sharpe_per_dte[dte]))),\n",
    "        label=f\"{dte} DTE\",\n",
    "        alpha=0.5,\n",
    "    )\n",
    "ax[1].set_xlabel(\"Sharpe Ratio\")\n",
    "ax[1].legend()\n",
    "\n",
    "fig.tight_layout()\n",
    "plt.show()"
   ]
  }
 ],
 "metadata": {
  "kernelspec": {
   "display_name": ".venv",
   "language": "python",
   "name": "python3"
  },
  "language_info": {
   "codemirror_mode": {
    "name": "ipython",
    "version": 3
   },
   "file_extension": ".py",
   "mimetype": "text/x-python",
   "name": "python",
   "nbconvert_exporter": "python",
   "pygments_lexer": "ipython3",
   "version": "3.10.1 (tags/v3.10.1:2cd268a, Dec  6 2021, 19:10:37) [MSC v.1929 64 bit (AMD64)]"
  },
  "orig_nbformat": 4,
  "vscode": {
   "interpreter": {
    "hash": "2ca1cc6ebeb84114f24f2c853380dd500fe8ab949c1b4ea52a3194da4e5887fa"
   }
  }
 },
 "nbformat": 4,
 "nbformat_minor": 2
}
