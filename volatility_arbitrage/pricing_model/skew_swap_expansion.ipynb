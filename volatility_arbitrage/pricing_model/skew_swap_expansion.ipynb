{
 "cells": [
  {
   "cell_type": "code",
   "execution_count": null,
   "metadata": {},
   "outputs": [
    {
     "ename": "",
     "evalue": "",
     "output_type": "error",
     "traceback": [
      "\u001b[1;31mFailed to start the Kernel. \n",
      "\u001b[1;31mFailed to start the Kernel '.venv (Python 3.9.13)'. \n",
      "\u001b[1;31mView Jupyter <a href='command:jupyter.viewOutput'>log</a> for further details. listen EFAULT: bad address in system call argument 0.0.0.0:9000"
     ]
    }
   ],
   "source": [
    "import sympy as sp"
   ]
  },
  {
   "attachments": {},
   "cell_type": "markdown",
   "metadata": {},
   "source": [
    "# Heston Model"
   ]
  },
  {
   "attachments": {},
   "cell_type": "markdown",
   "metadata": {},
   "source": [
    "## Parameters"
   ]
  },
  {
   "cell_type": "code",
   "execution_count": null,
   "metadata": {},
   "outputs": [],
   "source": [
    "kappa = sp.Symbol(r\"\\kappa\", positive=True)  # mean reversion\n",
    "theta = sp.Symbol(r\"\\theta\", positive=True)  # mean of variance\n",
    "eta = sp.Symbol(r\"\\eta\", positive=True)  # vol of variance\n",
    "nu = sp.Symbol(r\"\\nu\", positive=True)  # variance\n",
    "tau = sp.Symbol(r\"\\tau\", positive=True)  # time to expiry\n",
    "rho = sp.Symbol(r\"\\rho\", negative=True)  # vol spot correlation, usually negative for equity indices"
   ]
  },
  {
   "attachments": {},
   "cell_type": "markdown",
   "metadata": {},
   "source": [
    "## Pricing"
   ]
  },
  {
   "cell_type": "code",
   "execution_count": null,
   "metadata": {},
   "outputs": [
    {
     "ename": "",
     "evalue": "",
     "output_type": "error",
     "traceback": [
      "\u001b[1;31mFailed to start the Kernel. \n",
      "\u001b[1;31mFailed to start the Kernel '.venv (Python 3.9.13)'. \n",
      "\u001b[1;31mView Jupyter <a href='command:jupyter.viewOutput'>log</a> for further details. listen EFAULT: bad address in system call argument 127.0.0.1:9005"
     ]
    }
   ],
   "source": [
    "def price_var_swap(\n",
    "    mean_reversion: sp.Expr, mean_of_var: sp.Expr, tte: sp.Expr, var: sp.Expr\n",
    ") -> sp.Expr:\n",
    "    return (\n",
    "        mean_of_var * tte\n",
    "        + (var - mean_of_var) * (1 - sp.exp(-mean_reversion * tte)) / mean_reversion\n",
    "    )\n",
    "\n",
    "\n",
    "var_swap = price_var_swap(kappa, theta, tau, nu)\n",
    "gamma_swap = price_var_swap(kappa - eta * rho, kappa * theta / (kappa - eta * rho), tau, nu)\n",
    "\n",
    "skew_swap = gamma_swap - var_swap"
   ]
  },
  {
   "attachments": {},
   "cell_type": "markdown",
   "metadata": {},
   "source": [
    "# Skew Swap"
   ]
  },
  {
   "attachments": {},
   "cell_type": "markdown",
   "metadata": {},
   "source": [
    "## Short-Term Behavior"
   ]
  },
  {
   "cell_type": "code",
   "execution_count": null,
   "metadata": {},
   "outputs": [
    {
     "ename": "",
     "evalue": "",
     "output_type": "error",
     "traceback": [
      "\u001b[1;31mFailed to start the Kernel. \n",
      "\u001b[1;31mFailed to start the Kernel '.venv (Python 3.9.13)'. \n",
      "\u001b[1;31mView Jupyter <a href='command:jupyter.viewOutput'>log</a> for further details. listen EFAULT: bad address in system call argument 127.0.0.1:9005"
     ]
    }
   ],
   "source": [
    "display(skew_swap.limit(tau, 0).simplify())\n",
    "\n",
    "display(skew_swap.diff(tau, 1).limit(tau, 0).simplify())\n",
    "\n",
    "display(skew_swap.diff(tau, 2).limit(tau, 0).simplify())\n",
    "\n",
    "display(skew_swap.diff(tau, 3).limit(tau, 0).simplify())"
   ]
  },
  {
   "attachments": {},
   "cell_type": "markdown",
   "metadata": {},
   "source": [
    "# Long-Term Behavior"
   ]
  },
  {
   "cell_type": "code",
   "execution_count": null,
   "metadata": {},
   "outputs": [
    {
     "ename": "",
     "evalue": "",
     "output_type": "error",
     "traceback": [
      "\u001b[1;31mFailed to start the Kernel. \n",
      "\u001b[1;31mFailed to start the Kernel '.venv (Python 3.9.13)'. \n",
      "\u001b[1;31mView Jupyter <a href='command:jupyter.viewOutput'>log</a> for further details. listen EFAULT: bad address in system call argument 127.0.0.1:9005"
     ]
    }
   ],
   "source": [
    "display(skew_swap.limit(tau, sp.oo).simplify())\n",
    "\n",
    "display(skew_swap.diff(tau, 1).limit(tau, sp.oo).simplify())\n",
    "\n",
    "display(skew_swap.diff(tau, 2).limit(tau, sp.oo).simplify())\n",
    "\n",
    "display(skew_swap.diff(tau, 3).limit(tau, sp.oo).simplify())"
   ]
  },
  {
   "attachments": {},
   "cell_type": "markdown",
   "metadata": {},
   "source": [
    "# Normalized Skew Swap"
   ]
  },
  {
   "cell_type": "code",
   "execution_count": null,
   "metadata": {},
   "outputs": [
    {
     "ename": "",
     "evalue": "",
     "output_type": "error",
     "traceback": [
      "\u001b[1;31mFailed to start the Kernel. \n",
      "\u001b[1;31mFailed to start the Kernel '.venv (Python 3.9.13)'. \n",
      "\u001b[1;31mView Jupyter <a href='command:jupyter.viewOutput'>log</a> for further details. listen EFAULT: bad address in system call argument 127.0.0.1:9005"
     ]
    }
   ],
   "source": [
    "normalized_skew_swap = skew_swap / var_swap"
   ]
  },
  {
   "attachments": {},
   "cell_type": "markdown",
   "metadata": {},
   "source": [
    "## Short-Term Behavior"
   ]
  },
  {
   "cell_type": "code",
   "execution_count": null,
   "metadata": {},
   "outputs": [
    {
     "ename": "",
     "evalue": "",
     "output_type": "error",
     "traceback": [
      "\u001b[1;31mFailed to start the Kernel. \n",
      "\u001b[1;31mFailed to start the Kernel '.venv (Python 3.9.13)'. \n",
      "\u001b[1;31mView Jupyter <a href='command:jupyter.viewOutput'>log</a> for further details. listen EFAULT: bad address in system call argument 127.0.0.1:9005"
     ]
    }
   ],
   "source": [
    "display(normalized_skew_swap.limit(tau, 0).simplify())\n",
    "\n",
    "display(normalized_skew_swap.diff(tau, 1).limit(tau, 0).simplify())\n",
    "\n",
    "display(normalized_skew_swap.diff(tau, 2).limit(tau, 0).simplify())\n",
    "\n",
    "display(normalized_skew_swap.diff(tau, 3).limit(tau, 0).simplify())"
   ]
  },
  {
   "attachments": {},
   "cell_type": "markdown",
   "metadata": {},
   "source": [
    "# Long-Term Behavior"
   ]
  },
  {
   "cell_type": "code",
   "execution_count": null,
   "metadata": {},
   "outputs": [
    {
     "ename": "",
     "evalue": "",
     "output_type": "error",
     "traceback": [
      "\u001b[1;31mFailed to start the Kernel. \n",
      "\u001b[1;31mFailed to start the Kernel '.venv (Python 3.9.13)'. \n",
      "\u001b[1;31mView Jupyter <a href='command:jupyter.viewOutput'>log</a> for further details. listen EFAULT: bad address in system call argument 127.0.0.1:9005"
     ]
    }
   ],
   "source": [
    "display(normalized_skew_swap.limit(tau, sp.oo).simplify())\n",
    "\n",
    "display(normalized_skew_swap.diff(tau, 1).limit(tau, sp.oo).simplify())\n",
    "\n",
    "display(normalized_skew_swap.diff(tau, 2).limit(tau, sp.oo).simplify())\n",
    "\n",
    "display(normalized_skew_swap.diff(tau, 3).limit(tau, sp.oo).simplify())"
   ]
  }
 ],
 "metadata": {
  "kernelspec": {
   "display_name": ".venv",
   "language": "python",
   "name": "python3"
  },
  "language_info": {
   "codemirror_mode": {
    "name": "ipython",
    "version": 3
   },
   "file_extension": ".py",
   "mimetype": "text/x-python",
   "name": "python",
   "nbconvert_exporter": "python",
   "pygments_lexer": "ipython3",
   "version": "3.9.13 (tags/v3.9.13:6de2ca5, May 17 2022, 16:36:42) [MSC v.1929 64 bit (AMD64)]"
  },
  "orig_nbformat": 4,
  "vscode": {
   "interpreter": {
    "hash": "2ca1cc6ebeb84114f24f2c853380dd500fe8ab949c1b4ea52a3194da4e5887fa"
   }
  }
 },
 "nbformat": 4,
 "nbformat_minor": 2
}
