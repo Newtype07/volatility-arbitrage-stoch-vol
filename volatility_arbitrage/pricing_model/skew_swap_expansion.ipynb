{
 "cells": [
  {
   "cell_type": "code",
   "execution_count": 1,
   "metadata": {},
   "outputs": [],
   "source": [
    "import sympy as sp"
   ]
  },
  {
   "cell_type": "code",
   "execution_count": 37,
   "metadata": {},
   "outputs": [],
   "source": [
    "kappa = sp.Symbol(r\"\\kappa\")  # mean reversion\n",
    "theta = sp.Symbol(r\"\\theta\")  # mean of variance\n",
    "eta = sp.Symbol(r\"\\eta\")  # vol of variance\n",
    "nu = sp.Symbol(r\"\\nu\")  # variance\n",
    "tau = sp.Symbol(r\"\\tau\")  # time to expiry\n",
    "rho = sp.Symbol(r\"\\rho\")  # vol spot correlation"
   ]
  },
  {
   "cell_type": "code",
   "execution_count": 21,
   "metadata": {},
   "outputs": [],
   "source": [
    "def price_var_swap(\n",
    "    mean_reversion: sp.Expr, mean_of_var: sp.Expr, tte: sp.Expr, var: sp.Expr\n",
    ") -> sp.Expr:\n",
    "    return (\n",
    "        mean_of_var * tte\n",
    "        + (var - mean_of_var) * (1 - sp.exp(-mean_reversion * tte)) / mean_reversion\n",
    "    )\n",
    "\n",
    "\n",
    "var_swap = price_var_swap(kappa, theta, tau, nu)\n",
    "gamma_swap = price_var_swap(kappa - eta * rho, kappa * theta / (kappa - eta * rho), tau, nu)\n",
    "\n",
    "skew_swap = gamma_swap - var_swap"
   ]
  },
  {
   "cell_type": "code",
   "execution_count": 56,
   "metadata": {},
   "outputs": [
    {
     "data": {
      "text/latex": [
       "$\\displaystyle 0$"
      ],
      "text/plain": [
       "0"
      ]
     },
     "metadata": {},
     "output_type": "display_data"
    },
    {
     "data": {
      "text/latex": [
       "$\\displaystyle \\eta \\nu \\rho$"
      ],
      "text/plain": [
       "\\eta*\\nu*\\rho"
      ]
     },
     "metadata": {},
     "output_type": "display_data"
    }
   ],
   "source": [
    "display(skew_swap.diff(tau, 1).subs(tau, 0).simplify())\n",
    "\n",
    "display(skew_swap.diff(tau, 2).subs(tau, 0).simplify())"
   ]
  }
 ],
 "metadata": {
  "kernelspec": {
   "display_name": ".venv",
   "language": "python",
   "name": "python3"
  },
  "language_info": {
   "codemirror_mode": {
    "name": "ipython",
    "version": 3
   },
   "file_extension": ".py",
   "mimetype": "text/x-python",
   "name": "python",
   "nbconvert_exporter": "python",
   "pygments_lexer": "ipython3",
   "version": "3.9.13"
  },
  "orig_nbformat": 4,
  "vscode": {
   "interpreter": {
    "hash": "2ca1cc6ebeb84114f24f2c853380dd500fe8ab949c1b4ea52a3194da4e5887fa"
   }
  }
 },
 "nbformat": 4,
 "nbformat_minor": 2
}
